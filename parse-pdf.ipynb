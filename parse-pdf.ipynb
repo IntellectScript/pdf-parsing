{
 "cells": [
  {
   "cell_type": "code",
   "execution_count": 1,
   "metadata": {},
   "outputs": [],
   "source": [
    "from llama_index.core.settings import Settings\n",
    "from llama_index.llms.ollama import Ollama\n",
    "from llama_index.embeddings.huggingface import HuggingFaceEmbedding\n",
    "from llama_index.core import VectorStoreIndex, SimpleDirectoryReader\n",
    "from llama_index.readers.file import MarkdownReader\n",
    "from unstructured.partition.pdf import partition_pdf\n",
    "import boto3, json, base64\n",
    "from llama_index.core.node_parser import MarkdownElementNodeParser\n",
    "import nest_asyncio\n",
    "nest_asyncio.apply()"
   ]
  },
  {
   "cell_type": "code",
   "execution_count": 2,
   "metadata": {},
   "outputs": [],
   "source": [
    "filename = \"./data/files/genai.pdf\"\n",
    "elements = partition_pdf(filename=filename,\n",
    "                        strategy='hi_res',\n",
    "                        extract_images_in_pdf=True,\n",
    "                        extract_image_block_output_dir = \"./data/images\",\n",
    "           )"
   ]
  },
  {
   "cell_type": "code",
   "execution_count": 3,
   "metadata": {},
   "outputs": [
    {
     "name": "stdout",
     "output_type": "stream",
     "text": [
      "{'type': 'Title', 'element_id': '2ab24ebd32cf1c6b4334637656670517', 'text': 'Introduction about Generative AI', 'metadata': {'detection_class_prob': 0.7658371329307556, 'coordinates': {'points': ((198.94735717773438, 206.54434204101562), (198.94735717773438, 261.4333333333336), (948.8953333333332, 261.4333333333336), (948.8953333333332, 206.54434204101562)), 'system': 'PixelSpace', 'layout_width': 1700, 'layout_height': 2200}, 'last_modified': '2024-06-09T14:44:55', 'filetype': 'application/pdf', 'languages': ['eng'], 'page_number': 1, 'file_directory': './data/files', 'filename': 'genai.pdf'}}\n",
      "\n",
      "\n",
      "{'type': 'Title', 'element_id': '162abca2cc38e647bdc5de060d1189c0', 'text': 'Overview', 'metadata': {'detection_class_prob': 0.828103244304657, 'coordinates': {'points': ((199.28900146484375, 306.73431396484375), (199.28900146484375, 355.92933333333355), (397.54386666666664, 355.92933333333355), (397.54386666666664, 306.73431396484375)), 'system': 'PixelSpace', 'layout_width': 1700, 'layout_height': 2200}, 'last_modified': '2024-06-09T14:44:55', 'filetype': 'application/pdf', 'languages': ['eng'], 'page_number': 1, 'file_directory': './data/files', 'filename': 'genai.pdf'}}\n",
      "\n",
      "\n",
      "{'type': 'NarrativeText', 'element_id': '3c6ca59dad40b49b7de2c278504b86c3', 'text': 'Generative AI, also known as generative modeling, is a branch of artiﬁcial intelligence that focuses on creating models capable of generating new data that resembles a given dataset. These models are trained to learn and understand the underlying patterns and structures within the data, allowing them to generate new samples that share similar characteristics.', 'metadata': {'detection_class_prob': 0.9504883885383606, 'coordinates': {'points': ((196.6448211669922, 399.3864440917969), (196.6448211669922, 600.0666666666666), (1482.3766666666663, 600.0666666666666), (1482.3766666666663, 399.3864440917969)), 'system': 'PixelSpace', 'layout_width': 1700, 'layout_height': 2200}, 'last_modified': '2024-06-09T14:44:55', 'filetype': 'application/pdf', 'languages': ['eng'], 'page_number': 1, 'parent_id': '162abca2cc38e647bdc5de060d1189c0', 'file_directory': './data/files', 'filename': 'genai.pdf'}}\n",
      "\n",
      "\n",
      "{'type': 'NarrativeText', 'element_id': '1925c28cb0eb6599c77cc9683fde5e43', 'text': 'Generative AI models operate by learning the probability distribution of the training data and then sampling from this distribution to create new instances. They can be broadly classiﬁed into two categories: generative models and generative adversarial networks (GANs).', 'metadata': {'detection_class_prob': 0.9438511729240417, 'coordinates': {'points': ((199.74383544921875, 644.6295776367188), (199.74383544921875, 803.4000000000001), (1459.6627197265625, 803.4000000000001), (1459.6627197265625, 644.6295776367188)), 'system': 'PixelSpace', 'layout_width': 1700, 'layout_height': 2200}, 'last_modified': '2024-06-09T14:44:55', 'filetype': 'application/pdf', 'languages': ['eng'], 'page_number': 1, 'parent_id': '162abca2cc38e647bdc5de060d1189c0', 'file_directory': './data/files', 'filename': 'genai.pdf'}}\n",
      "\n",
      "\n",
      "{'type': 'Image', 'element_id': '1776ac36cd4d3679c3aa53def5158a03', 'text': 'Name Description LLM Language model that generates text based on learned patterns and context. Embedding Model that represents words or sentences as dense vectors, capturing model semantic relationships. DAAS2 D company specific technology solutions.', 'metadata': {'coordinates': {'points': ((200.0, 844.2599999999999), (200.0, 1235.648888888889), (1500.0, 1235.648888888889), (1500.0, 844.2599999999999)), 'system': 'PixelSpace', 'layout_width': 1700, 'layout_height': 2200}, 'last_modified': '2024-06-09T14:44:55', 'filetype': 'application/pdf', 'languages': ['eng'], 'page_number': 1, 'image_path': './data/images/figure-1-1.jpg', 'file_directory': './data/files', 'filename': 'genai.pdf'}}\n",
      "\n",
      "\n",
      "{'type': 'NarrativeText', 'element_id': '66fb8ae2035fc822879d4abf35f708b9', 'text': 'Generative Models: Variational Autoencoders (VAEs): These models learn a latent representation of the data and use this representation to generate new samples. VAEs are trained to maximize the likelihood of generating the input data, while also ensuring that the latent space follows a speciﬁc distribution, typically a Gaussian distribution.', 'metadata': {'detection_class_prob': 0.9432806372642517, 'coordinates': {'points': ((200.0, 1284.0666666666668), (200.0, 1480.0666666666668), (1474.790283203125, 1480.0666666666668), (1474.790283203125, 1284.0666666666668)), 'system': 'PixelSpace', 'layout_width': 1700, 'layout_height': 2200}, 'last_modified': '2024-06-09T14:44:55', 'filetype': 'application/pdf', 'languages': ['eng'], 'page_number': 1, 'file_directory': './data/files', 'filename': 'genai.pdf'}}\n",
      "\n",
      "\n",
      "{'type': 'NarrativeText', 'element_id': '19b7d02ffb1d53f68923d554dc5d965b', 'text': 'Autoregressive Models: These models generate new samples by modeling the conditional probability of each data point given the previous data points. Examples of autoregressive models include PixelCNN and WaveNet.', 'metadata': {'detection_class_prob': 0.9349794387817383, 'coordinates': {'points': ((200.0, 1525.9305419921875), (200.0, 1642.7333333333333), (1483.6351318359375, 1642.7333333333333), (1483.6351318359375, 1525.9305419921875)), 'system': 'PixelSpace', 'layout_width': 1700, 'layout_height': 2200}, 'last_modified': '2024-06-09T14:44:55', 'filetype': 'application/pdf', 'languages': ['eng'], 'page_number': 1, 'file_directory': './data/files', 'filename': 'genai.pdf'}}\n",
      "\n",
      "\n",
      "{'type': 'NarrativeText', 'element_id': '2b0efebc8ea00673adf03a9f84e5e7b3', 'text': 'Restricted Boltzmann Machines (RBMs): These models are a type of generative stochastic artiﬁcial neural network that learn the probability distribution of the data. They consist of visible and hidden units, and through an iterative process, they adjust their weights to better approximate the input data distribution.', 'metadata': {'detection_class_prob': 0.9440647959709167, 'coordinates': {'points': ((197.74078369140625, 1685.52392578125), (197.74078369140625, 1846.0666666666668), (1482.6066666666661, 1846.0666666666668), (1482.6066666666661, 1685.52392578125)), 'system': 'PixelSpace', 'layout_width': 1700, 'layout_height': 2200}, 'last_modified': '2024-06-09T14:44:55', 'filetype': 'application/pdf', 'languages': ['eng'], 'page_number': 1, 'file_directory': './data/files', 'filename': 'genai.pdf'}}\n",
      "\n",
      "\n",
      "{'type': 'Title', 'element_id': 'bbc82fefeccd1204ae7dd4e4263f8dee', 'text': 'Generative Adversarial Networks (GANs):', 'metadata': {'detection_class_prob': 0.4835997223854065, 'coordinates': {'points': ((200.0, 1893.3900146484375), (200.0, 1927.4), (824.2146666666665, 1927.4), (824.2146666666665, 1893.3900146484375)), 'system': 'PixelSpace', 'layout_width': 1700, 'layout_height': 2200}, 'last_modified': '2024-06-09T14:44:55', 'filetype': 'application/pdf', 'languages': ['eng'], 'page_number': 1, 'file_directory': './data/files', 'filename': 'genai.pdf'}}\n",
      "\n",
      "\n",
      "{'type': 'ListItem', 'element_id': 'a9d02796890d5cd63970ef2370ad2f2e', 'text': 'generator tries to produce samples that are indistinguishable from the real data, while the discriminator tries to diNerentiate between real and fake samples. The generator and discriminator are trained in an adversarial manner, with the generator aiming to fool the discriminator and the discriminator trying to accurately identify real and fake samples. This competition leads to the generator producing increasingly realistic samples.', 'metadata': {'detection_class_prob': 0.947692334651947, 'coordinates': {'points': ((240.49905395507812, 206.4987335205078), (240.49905395507812, 487.40000000000015), (1496.139533333333, 487.40000000000015), (1496.139533333333, 206.4987335205078)), 'system': 'PixelSpace', 'layout_width': 1700, 'layout_height': 2200}, 'last_modified': '2024-06-09T14:44:55', 'filetype': 'application/pdf', 'languages': ['eng'], 'page_number': 2, 'parent_id': 'bbc82fefeccd1204ae7dd4e4263f8dee', 'file_directory': './data/files', 'filename': 'genai.pdf'}}\n",
      "\n",
      "\n",
      "{'type': 'ListItem', 'element_id': '90e542e93f4c146dda58cd5e565e02fc', 'text': '• Conditional GANs (cGANs): In addition to generating new samples, cGANs also consider additional information, known as conditioning variables, to generate samples that satisfy speciﬁc conditions. For example, given an input image of a cat, a cGAN can generate diNerent images of cats in various poses or with diNerent attributes.', 'metadata': {'detection_class_prob': 0.9548363089561462, 'coordinates': {'points': ((238.3954315185547, 493.96270751953125), (238.3954315185547, 692.7333333333333), (1495.493333333334, 692.7333333333333), (1495.493333333334, 493.96270751953125)), 'system': 'PixelSpace', 'layout_width': 1700, 'layout_height': 2200}, 'last_modified': '2024-06-09T14:44:55', 'filetype': 'application/pdf', 'languages': ['eng'], 'page_number': 2, 'parent_id': 'bbc82fefeccd1204ae7dd4e4263f8dee', 'file_directory': './data/files', 'filename': 'genai.pdf'}}\n",
      "\n",
      "\n",
      "{'type': 'NarrativeText', 'element_id': 'bdd3fcf2a252005db5ab9a133dbad456', 'text': 'Generative AI has various applications, including image synthesis, text generation, music composition, and video generation. It has the potential to revolutionize ﬁelds like art, entertainment, design, and content creation by enabling machines to create new content that resembles human creations.', 'metadata': {'detection_class_prob': 0.9488343000411987, 'coordinates': {'points': ((200.0, 736.6609497070312), (200.0, 896.0666666666668), (1484.1572265625, 896.0666666666668), (1484.1572265625, 736.6609497070312)), 'system': 'PixelSpace', 'layout_width': 1700, 'layout_height': 2200}, 'last_modified': '2024-06-09T14:44:55', 'filetype': 'application/pdf', 'languages': ['eng'], 'page_number': 2, 'parent_id': 'bbc82fefeccd1204ae7dd4e4263f8dee', 'file_directory': './data/files', 'filename': 'genai.pdf'}}\n",
      "\n",
      "\n"
     ]
    }
   ],
   "source": [
    "for e in elements: \n",
    "    print(e.to_dict())\n",
    "    print(\"\\n\")"
   ]
  },
  {
   "cell_type": "code",
   "execution_count": 4,
   "metadata": {},
   "outputs": [],
   "source": [
    "def get_image_base64(image_path: str):\n",
    "    with open(image_path, \"rb\") as image_file:\n",
    "        image_bytes = image_file.read()\n",
    "    return base64.b64encode(image_bytes).decode(\"utf-8\")\n",
    "\n",
    "def invoke_claude_3_with_image(image_base64: str, prompt: str, profile_name: str, \n",
    "                               model_id: str = \"anthropic.claude-3-sonnet-20240229-v1:0\",\n",
    "                               anthropic_version: str = \"bedrock-2023-05-31\",\n",
    "                               max_tokens: int = 5000):\n",
    "    boto3.setup_default_session(profile_name=profile_name)\n",
    "    client = boto3.client(service_name=\"bedrock-runtime\", region_name=\"us-east-1\")\n",
    "    response = client.invoke_model(modelId=model_id, body=json.dumps(\n",
    "        {\"anthropic_version\": anthropic_version, \"max_tokens\": max_tokens, \"messages\": [\n",
    "            {\"role\": \"user\", \"content\": [\n",
    "                {\"type\": \"image\", \"source\": {\"type\": \"base64\", \"media_type\": \"image/jpeg\", \"data\": image_base64}},\n",
    "                {\"type\": \"text\", \"text\": prompt}\n",
    "            ]}\n",
    "        ]}\n",
    "    ))\n",
    "    result = json.loads(response.get(\"body\").read())\n",
    "    return result"
   ]
  },
  {
   "cell_type": "code",
   "execution_count": 5,
   "metadata": {},
   "outputs": [
    {
     "data": {
      "text/plain": [
       "['## Introduction about Generative AI',\n",
       " '## Overview',\n",
       " 'Generative AI, also known as generative modeling, is a branch of artiﬁcial intelligence that focuses on creating models capable of generating new data that resembles a given dataset. These models are trained to learn and understand the underlying patterns and structures within the data, allowing them to generate new samples that share similar characteristics.',\n",
       " 'Generative AI models operate by learning the probability distribution of the training data and then sampling from this distribution to create new instances. They can be broadly classiﬁed into two categories: generative models and generative adversarial networks (GANs).',\n",
       " '| Name | Description |\\n|-|-|\\n| LLM | Language model that generates text based on learned patterns and context. |  \\n| Embedding model | Model that represents words or sentences as dense vectors, capturing semantic relationships. |\\n| DAAS2 | D company specific technology solutions. |',\n",
       " 'Generative Models: Variational Autoencoders (VAEs): These models learn a latent representation of the data and use this representation to generate new samples. VAEs are trained to maximize the likelihood of generating the input data, while also ensuring that the latent space follows a speciﬁc distribution, typically a Gaussian distribution.',\n",
       " 'Autoregressive Models: These models generate new samples by modeling the conditional probability of each data point given the previous data points. Examples of autoregressive models include PixelCNN and WaveNet.',\n",
       " 'Restricted Boltzmann Machines (RBMs): These models are a type of generative stochastic artiﬁcial neural network that learn the probability distribution of the data. They consist of visible and hidden units, and through an iterative process, they adjust their weights to better approximate the input data distribution.',\n",
       " '## Generative Adversarial Networks (GANs):',\n",
       " 'generator tries to produce samples that are indistinguishable from the real data, while the discriminator tries to diNerentiate between real and fake samples. The generator and discriminator are trained in an adversarial manner, with the generator aiming to fool the discriminator and the discriminator trying to accurately identify real and fake samples. This competition leads to the generator producing increasingly realistic samples.',\n",
       " '• Conditional GANs (cGANs): In addition to generating new samples, cGANs also consider additional information, known as conditioning variables, to generate samples that satisfy speciﬁc conditions. For example, given an input image of a cat, a cGAN can generate diNerent images of cats in various poses or with diNerent attributes.',\n",
       " 'Generative AI has various applications, including image synthesis, text generation, music composition, and video generation. It has the potential to revolutionize ﬁelds like art, entertainment, design, and content creation by enabling machines to create new content that resembles human creations.']"
      ]
     },
     "execution_count": 5,
     "metadata": {},
     "output_type": "execute_result"
    }
   ],
   "source": [
    "prompt = \"Look carefully at the image, convert the image to a table with markdown format, only output text.\"\n",
    "profile_name = \"YOUR_AWS_PROFILE_NAME\"\n",
    "output = []\n",
    "\n",
    "\n",
    "for e in elements: \n",
    "    items = e.to_dict()\n",
    "    if items['type'] != 'Image':\n",
    "        if items['type'] == 'Title':\n",
    "            output.append(\"## \" + items['text'])\n",
    "        else:\n",
    "            output.append(items['text'])\n",
    "    else:\n",
    "        image_path = items['metadata']['image_path']\n",
    "        image_base64 = get_image_base64(image_path)\n",
    "        response = invoke_claude_3_with_image(image_base64, prompt, profile_name)\n",
    "        output.append(response['content'][0]['text'])\n",
    "    \n",
    "output"
   ]
  },
  {
   "cell_type": "code",
   "execution_count": 6,
   "metadata": {},
   "outputs": [],
   "source": [
    "markdown_content = \"\\n\\n\".join(output)\n",
    "\n",
    "file_path = 'data/output/output.md'  # Specify the file path and name\n",
    "with open(file_path, 'w') as file:\n",
    "    file.write(markdown_content)"
   ]
  },
  {
   "cell_type": "code",
   "execution_count": 7,
   "metadata": {},
   "outputs": [
    {
     "name": "stderr",
     "output_type": "stream",
     "text": [
      "/Users/lii4411/Documents/GitHub/pdf-parsing/.venv/lib/python3.11/site-packages/huggingface_hub/file_download.py:1132: FutureWarning: `resume_download` is deprecated and will be removed in version 1.0.0. Downloads always resume when possible. If you want to force a new download, use `force_download=True`.\n",
      "  warnings.warn(\n"
     ]
    }
   ],
   "source": [
    "Settings.embed_model = HuggingFaceEmbedding(model_name=\"BAAI/bge-large-en-v1.5\")\n",
    "Settings.llm = Ollama(model=\"mistral-7b-instruct:latest\", request_timeout=30.0)\n"
   ]
  },
  {
   "cell_type": "code",
   "execution_count": 8,
   "metadata": {},
   "outputs": [
    {
     "name": "stderr",
     "output_type": "stream",
     "text": [
      "0it [00:00, ?it/s]\n",
      "0it [00:00, ?it/s]\n",
      "1it [00:00, 31300.78it/s]\n",
      "100%|██████████| 1/1 [00:06<00:00,  6.28s/it]\n",
      "0it [00:00, ?it/s]\n",
      "0it [00:00, ?it/s]\n"
     ]
    }
   ],
   "source": [
    "parser = MarkdownReader()\n",
    "file_extractor = {\".md\": parser}\n",
    "documents = SimpleDirectoryReader(\"data/output\", file_extractor=file_extractor).load_data()\n",
    "\n",
    "md_node_parser = MarkdownElementNodeParser(include_metadata=True)\n",
    "md_nodes = md_node_parser.get_nodes_from_documents(documents=documents)"
   ]
  },
  {
   "cell_type": "code",
   "execution_count": 9,
   "metadata": {},
   "outputs": [],
   "source": [
    "index = VectorStoreIndex(md_nodes)\n",
    "query_engine = index.as_query_engine(similarity_top_k=1)\n",
    "response = query_engine.query(\"Please only use the context you have currently, tell me about DAAS2?\")"
   ]
  },
  {
   "cell_type": "code",
   "execution_count": 10,
   "metadata": {},
   "outputs": [
    {
     "name": "stdout",
     "output_type": "stream",
     "text": [
      "\n",
      "Based on the context in the table, DAAS2 is labeled as a technology solution but no further details are provided about its specific function or what it stands for. It's important to note that the table lacks a title or caption which could potentially provide more context. Without more information, it's impossible to accurately determine what DAAS2 is or does.\n"
     ]
    }
   ],
   "source": [
    "print(response)"
   ]
  },
  {
   "cell_type": "code",
   "execution_count": null,
   "metadata": {},
   "outputs": [],
   "source": []
  }
 ],
 "metadata": {
  "kernelspec": {
   "display_name": ".venv",
   "language": "python",
   "name": "python3"
  },
  "language_info": {
   "codemirror_mode": {
    "name": "ipython",
    "version": 3
   },
   "file_extension": ".py",
   "mimetype": "text/x-python",
   "name": "python",
   "nbconvert_exporter": "python",
   "pygments_lexer": "ipython3",
   "version": "3.11.9"
  }
 },
 "nbformat": 4,
 "nbformat_minor": 2
}
